{
 "cells": [
  {
   "cell_type": "markdown",
   "metadata": {},
   "source": [
    "# Data types in Python \n",
    "- Strings -->Characters\n",
    "-Numbers\n",
    "    -int\n",
    "    -float\n",
    "-Boolean"
   ]
  },
  {
   "cell_type": "markdown",
   "metadata": {},
   "source": [
    "# Identifiers\n",
    "- Case Sensitive\n",
    "- Start with any letter A - Z a - z or an _ (underscore)\n",
    "- May or May not be Followed by a combination of letters underscore or digits(0-9)\n",
    "- No Special characcter allowed :\n",
    "- Reserved words cannot be used : if else break for\n",
    "- Builtin function : should not be used : print len dir"
   ]
  },
  {
   "cell_type": "markdown",
   "metadata": {},
   "source": [
    "# Type Conversion\n",
    "- int to float conversion\n",
    "- float to int conversions\n",
    "- int or float to str conversions or vice versa\n",
    "- str to int or float is vased on the values that are stored inside \n",
    "- bool to str\n",
    "- str to bool based on string\n",
    "- int or float to bool based on what is passed\n",
    "- bool to float or int\n"
   ]
  },
  {
   "cell_type": "code",
   "execution_count": 1,
   "metadata": {},
   "outputs": [
    {
     "data": {
      "text/plain": [
       "45.0"
      ]
     },
     "execution_count": 1,
     "metadata": {},
     "output_type": "execute_result"
    }
   ],
   "source": [
    "# int to float\n",
    "float(45)"
   ]
  },
  {
   "cell_type": "code",
   "execution_count": 2,
   "metadata": {},
   "outputs": [
    {
     "data": {
      "text/plain": [
       "44"
      ]
     },
     "execution_count": 2,
     "metadata": {},
     "output_type": "execute_result"
    }
   ],
   "source": [
    "#float to int\n",
    "int(44.6845)"
   ]
  },
  {
   "cell_type": "code",
   "execution_count": 3,
   "metadata": {},
   "outputs": [
    {
     "data": {
      "text/plain": [
       "'44'"
      ]
     },
     "execution_count": 3,
     "metadata": {},
     "output_type": "execute_result"
    }
   ],
   "source": [
    "# int to string\n",
    "str(44)"
   ]
  },
  {
   "cell_type": "code",
   "execution_count": 4,
   "metadata": {},
   "outputs": [
    {
     "data": {
      "text/plain": [
       "'45.2315'"
      ]
     },
     "execution_count": 4,
     "metadata": {},
     "output_type": "execute_result"
    }
   ],
   "source": [
    "# float to string\n",
    "str(45.2315)"
   ]
  },
  {
   "cell_type": "code",
   "execution_count": 5,
   "metadata": {},
   "outputs": [
    {
     "data": {
      "text/plain": [
       "44.23"
      ]
     },
     "execution_count": 5,
     "metadata": {},
     "output_type": "execute_result"
    }
   ],
   "source": [
    "# str to  float\n",
    "float('44.23')"
   ]
  },
  {
   "cell_type": "code",
   "execution_count": 6,
   "metadata": {},
   "outputs": [
    {
     "data": {
      "text/plain": [
       "44"
      ]
     },
     "execution_count": 6,
     "metadata": {},
     "output_type": "execute_result"
    }
   ],
   "source": [
    "#  str to int\n",
    "int('44')"
   ]
  },
  {
   "cell_type": "code",
   "execution_count": 7,
   "metadata": {},
   "outputs": [
    {
     "ename": "ValueError",
     "evalue": "invalid literal for int() with base 10: '44.44'",
     "output_type": "error",
     "traceback": [
      "\u001b[0;31m---------------------------------------------------------------------------\u001b[0m",
      "\u001b[0;31mValueError\u001b[0m                                Traceback (most recent call last)",
      "\u001b[0;32m<ipython-input-7-d360d956dd75>\u001b[0m in \u001b[0;36m<module>\u001b[0;34m\u001b[0m\n\u001b[1;32m      1\u001b[0m \u001b[0;31m# be careful\u001b[0m\u001b[0;34m\u001b[0m\u001b[0;34m\u001b[0m\u001b[0;34m\u001b[0m\u001b[0m\n\u001b[0;32m----> 2\u001b[0;31m \u001b[0mint\u001b[0m\u001b[0;34m(\u001b[0m\u001b[0;34m'44.44'\u001b[0m\u001b[0;34m)\u001b[0m\u001b[0;34m\u001b[0m\u001b[0;34m\u001b[0m\u001b[0m\n\u001b[0m",
      "\u001b[0;31mValueError\u001b[0m: invalid literal for int() with base 10: '44.44'"
     ]
    }
   ],
   "source": [
    "# be careful\n",
    "int('44.44')"
   ]
  },
  {
   "cell_type": "code",
   "execution_count": 8,
   "metadata": {},
   "outputs": [
    {
     "ename": "ValueError",
     "evalue": "could not convert string to float: 'simran'",
     "output_type": "error",
     "traceback": [
      "\u001b[0;31m---------------------------------------------------------------------------\u001b[0m",
      "\u001b[0;31mValueError\u001b[0m                                Traceback (most recent call last)",
      "\u001b[0;32m<ipython-input-8-e6a6e7bea85e>\u001b[0m in \u001b[0;36m<module>\u001b[0;34m\u001b[0m\n\u001b[1;32m      1\u001b[0m \u001b[0;31m# be careful\u001b[0m\u001b[0;34m\u001b[0m\u001b[0;34m\u001b[0m\u001b[0;34m\u001b[0m\u001b[0m\n\u001b[0;32m----> 2\u001b[0;31m \u001b[0mfloat\u001b[0m\u001b[0;34m(\u001b[0m\u001b[0;34m'simran'\u001b[0m\u001b[0;34m)\u001b[0m\u001b[0;34m\u001b[0m\u001b[0;34m\u001b[0m\u001b[0m\n\u001b[0m",
      "\u001b[0;31mValueError\u001b[0m: could not convert string to float: 'simran'"
     ]
    }
   ],
   "source": [
    "# be careful\n",
    "float('simran')"
   ]
  },
  {
   "cell_type": "code",
   "execution_count": 9,
   "metadata": {},
   "outputs": [
    {
     "data": {
      "text/plain": [
       "(45.0, 48.21)"
      ]
     },
     "execution_count": 9,
     "metadata": {},
     "output_type": "execute_result"
    }
   ],
   "source": [
    "float(45), float(48.21), d"
   ]
  },
  {
   "cell_type": "markdown",
   "metadata": {},
   "source": [
    "# Sets\n",
    "- {item1, item2,...}\n",
    "    - unique items\n",
    "    - unordered and unindexed\n",
    "    - cannot access the individual elements"
   ]
  },
  {
   "cell_type": "code",
   "execution_count": 69,
   "metadata": {},
   "outputs": [
    {
     "data": {
      "text/plain": [
       "{45.6, 5, 'simran'}"
      ]
     },
     "execution_count": 69,
     "metadata": {},
     "output_type": "execute_result"
    }
   ],
   "source": [
    "# heterogenous\n",
    "examp = {'simran', 5, 45.6}\n",
    "examp"
   ]
  },
  {
   "cell_type": "code",
   "execution_count": 72,
   "metadata": {},
   "outputs": [
    {
     "data": {
      "text/plain": [
       "set"
      ]
     },
     "execution_count": 72,
     "metadata": {},
     "output_type": "execute_result"
    }
   ],
   "source": [
    "# To create a set\n",
    "example_set = set()\n",
    "# to identify the type of data\n",
    "type(example_set)"
   ]
  },
  {
   "cell_type": "code",
   "execution_count": 50,
   "metadata": {},
   "outputs": [
    {
     "data": {
      "text/plain": [
       "{'apple', 'banana', 'bread', 'milk', 'peach', 'sugar', 'yoghurt'}"
      ]
     },
     "execution_count": 50,
     "metadata": {},
     "output_type": "execute_result"
    }
   ],
   "source": [
    "basket = {'apple', 'bread', 'milk', 'yoghurt', 'peach', 'yoghurt', 'banana', 'bread', 'sugar', 'apple'}\n",
    "# 11 entries\n",
    "basket"
   ]
  },
  {
   "cell_type": "markdown",
   "metadata": {},
   "source": [
    "### Union and intersection"
   ]
  },
  {
   "cell_type": "code",
   "execution_count": 2,
   "metadata": {},
   "outputs": [],
   "source": [
    "basket1 = {'apple', 'milk', 'oranges', 'yoghurt', 'bread', 'butter', 'eggs', 'broccoli', 'lettuce', 'cheese', 'tomato', 'cold drinks'}\n",
    "basket2 = {'milk', 'cheese', 'detergent', 'toilet paper', 'cold drinks', 'jam', 'pizza base'} "
   ]
  },
  {
   "cell_type": "code",
   "execution_count": 9,
   "metadata": {},
   "outputs": [
    {
     "name": "stdout",
     "output_type": "stream",
     "text": [
      "{'lettuce', 'apple', 'detergent', 'bread', 'butter', 'toilet paper', 'pizza base', 'cold drinks', 'yoghurt', 'oranges', 'tomato', 'milk', 'cheese', 'broccoli', 'jam', 'eggs'}\n"
     ]
    }
   ],
   "source": [
    "#  Union\n",
    "print(basket1.union(basket2))"
   ]
  },
  {
   "cell_type": "code",
   "execution_count": 10,
   "metadata": {},
   "outputs": [
    {
     "name": "stdout",
     "output_type": "stream",
     "text": [
      "{'cheese', 'milk', 'cold drinks'}\n"
     ]
    }
   ],
   "source": [
    "# Intersection\n",
    "print(basket1.intersection(basket2))"
   ]
  },
  {
   "cell_type": "code",
   "execution_count": 11,
   "metadata": {},
   "outputs": [
    {
     "name": "stdout",
     "output_type": "stream",
     "text": [
      "{'lettuce', 'apple', 'yoghurt', 'oranges', 'tomato', 'butter', 'bread', 'broccoli', 'eggs'}\n"
     ]
    }
   ],
   "source": [
    "# Difference (A-B)\n",
    "# to give the all elements in basket1 but absent in basket2\n",
    "print(basket1.difference(basket2))"
   ]
  },
  {
   "cell_type": "code",
   "execution_count": 3,
   "metadata": {},
   "outputs": [
    {
     "name": "stdout",
     "output_type": "stream",
     "text": [
      "{'tomato', 'butter', 'oranges', 'apple', 'broccoli', 'eggs', 'lettuce', 'bread', 'yoghurt'}\n"
     ]
    }
   ],
   "source": [
    "# Difference (B-A)\n",
    "# This give different resutl than from earlier\n",
    "# gives all the elements that are present in basket2 but absent basket1\n",
    "\n",
    "print(basket1.difference(basket2))"
   ]
  },
  {
   "cell_type": "code",
   "execution_count": 1,
   "metadata": {},
   "outputs": [],
   "source": [
    "# Symmetric difference \n",
    "# to list only the differences\n",
    "# (A Union B) - (A intersection B)\n",
    "A = {1,2,3,4,5}\n",
    "B = {3,4,5,6,7}"
   ]
  },
  {
   "cell_type": "code",
   "execution_count": 4,
   "metadata": {},
   "outputs": [
    {
     "data": {
      "text/plain": [
       "{1, 2, 3, 4, 5, 6, 7}"
      ]
     },
     "execution_count": 4,
     "metadata": {},
     "output_type": "execute_result"
    }
   ],
   "source": [
    "# Union\n",
    "A.union(B)"
   ]
  },
  {
   "cell_type": "code",
   "execution_count": 5,
   "metadata": {},
   "outputs": [
    {
     "data": {
      "text/plain": [
       "{3, 4, 5}"
      ]
     },
     "execution_count": 5,
     "metadata": {},
     "output_type": "execute_result"
    }
   ],
   "source": [
    "# Intersection\n",
    "A.intersection(B)"
   ]
  },
  {
   "cell_type": "code",
   "execution_count": 9,
   "metadata": {},
   "outputs": [
    {
     "data": {
      "text/plain": [
       "{1, 2}"
      ]
     },
     "execution_count": 9,
     "metadata": {},
     "output_type": "execute_result"
    }
   ],
   "source": [
    "# Difference\n",
    "A.difference(B)"
   ]
  },
  {
   "cell_type": "code",
   "execution_count": 10,
   "metadata": {},
   "outputs": [
    {
     "data": {
      "text/plain": [
       "{6, 7}"
      ]
     },
     "execution_count": 10,
     "metadata": {},
     "output_type": "execute_result"
    }
   ],
   "source": [
    "# Difference\n",
    "B.difference(A)"
   ]
  },
  {
   "cell_type": "code",
   "execution_count": 11,
   "metadata": {},
   "outputs": [
    {
     "data": {
      "text/plain": [
       "{1, 2, 6, 7}"
      ]
     },
     "execution_count": 11,
     "metadata": {},
     "output_type": "execute_result"
    }
   ],
   "source": [
    "# Symmetric Difference\n",
    "A.symmetric_difference(B)"
   ]
  },
  {
   "cell_type": "code",
   "execution_count": 51,
   "metadata": {},
   "outputs": [
    {
     "name": "stdout",
     "output_type": "stream",
     "text": [
      "Before add :  {'milk', 'banana', 'apple', 'peach', 'sugar', 'bread', 'yoghurt'}\n",
      "After add :  {'new element', 'milk', 'banana', 'apple', 'peach', 'sugar', 'bread', 'yoghurt'}\n"
     ]
    }
   ],
   "source": [
    "# add function to add some new element to the set.\n",
    "print('Before add : ', basket)\n",
    "basket.add('new element')\n",
    "print('After add : ', basket)"
   ]
  },
  {
   "cell_type": "code",
   "execution_count": 52,
   "metadata": {},
   "outputs": [
    {
     "name": "stdout",
     "output_type": "stream",
     "text": [
      "Before add :  {'new element', 'milk', 'banana', 'apple', 'peach', 'sugar', 'bread', 'yoghurt'}\n",
      "After add :  {'new element', 'milk', 'banana', 'new element2', 'apple', 'peach', 'sugar', 'bread', 'yoghurt'}\n"
     ]
    }
   ],
   "source": [
    "print('Before add : ', basket)\n",
    "# This makes changes to actual set\n",
    "basket.add('new element2')\n",
    "print('After add : ', basket)"
   ]
  },
  {
   "cell_type": "markdown",
   "metadata": {},
   "source": [
    "# List\n",
    "- ordered heterogenous data structures\n",
    "- can contain duplicate values\n",
    "- can be accessed using the indices\n",
    "- mutable"
   ]
  },
  {
   "cell_type": "code",
   "execution_count": 6,
   "metadata": {},
   "outputs": [],
   "source": [
    "basket_list = ['apple', 'banana', 'bread', 'milk', 'yoghurt', 'peach', 'yoghurt', 'bread', 'sugar', 'apple']"
   ]
  },
  {
   "cell_type": "code",
   "execution_count": 47,
   "metadata": {},
   "outputs": [
    {
     "name": "stdout",
     "output_type": "stream",
     "text": [
      "['apple', 'banana', 'bread', 'milk', 'yoghurt', 'peach', 'yoghurt', 'bread', 'sugar', 'apple']\n"
     ]
    }
   ],
   "source": [
    "print(basket_list)"
   ]
  },
  {
   "cell_type": "code",
   "execution_count": 39,
   "metadata": {},
   "outputs": [],
   "source": [
    "hetero = [1, 'a', 25.88, True, 'Nimisha',[1,3,4,5]]"
   ]
  },
  {
   "cell_type": "code",
   "execution_count": 54,
   "metadata": {},
   "outputs": [],
   "source": [
    "# This adds a new item to end of the list \n",
    "# A list can be added to the list through append function\n",
    "basket_list.append('JAM')"
   ]
  },
  {
   "cell_type": "code",
   "execution_count": 55,
   "metadata": {},
   "outputs": [
    {
     "data": {
      "text/plain": [
       "['apple',\n",
       " 'banana',\n",
       " 'bread',\n",
       " 'milk',\n",
       " 'yoghurt',\n",
       " 'peach',\n",
       " 'yoghurt',\n",
       " 'bread',\n",
       " 'sugar',\n",
       " 'apple',\n",
       " 'JAM']"
      ]
     },
     "execution_count": 55,
     "metadata": {},
     "output_type": "execute_result"
    }
   ],
   "source": [
    "basket_list"
   ]
  },
  {
   "cell_type": "markdown",
   "metadata": {},
   "source": [
    "### Slicing\n",
    "- start : stop : step\n",
    "- start - beginning index | default = 0 | inclcluded\n",
    "- stop - end index | default = lent(list) | excluded\n",
    "- step - increment value to generate this index sequence | default = 1"
   ]
  },
  {
   "cell_type": "code",
   "execution_count": 6,
   "metadata": {},
   "outputs": [],
   "source": [
    "#Indices 0    1    2    3    4    5    6    7    8    9    10   11 \n",
    "alist = [1 , 'a' , 2 , 'b' , 3 , 'c' , 4 , 'd' , 5 , 'e' , 6 , 'f']\n",
    "#Indices -12 -11 -10   -9   -8   -7   -6   -5   -4   -3   -2   -1"
   ]
  },
  {
   "cell_type": "code",
   "execution_count": 58,
   "metadata": {},
   "outputs": [
    {
     "data": {
      "text/plain": [
       "[1, 'a', 2, 'b', 3, 'c', 4, 'd', 5, 'e', 6, 'f']"
      ]
     },
     "execution_count": 58,
     "metadata": {},
     "output_type": "execute_result"
    }
   ],
   "source": [
    "# start = 0 and stop = len(alist)\n",
    "alist[ : ]"
   ]
  },
  {
   "cell_type": "code",
   "execution_count": 59,
   "metadata": {},
   "outputs": [
    {
     "data": {
      "text/plain": [
       "[3, 'c', 4, 'd', 5, 'e', 6, 'f']"
      ]
     },
     "execution_count": 59,
     "metadata": {},
     "output_type": "execute_result"
    }
   ],
   "source": [
    "# start = 4 and stop = len(alist)\n",
    "alist[4 :]"
   ]
  },
  {
   "cell_type": "code",
   "execution_count": 61,
   "metadata": {},
   "outputs": [
    {
     "data": {
      "text/plain": [
       "[1, 'a', 2, 'b', 3, 'c', 4, 'd']"
      ]
     },
     "execution_count": 61,
     "metadata": {},
     "output_type": "execute_result"
    }
   ],
   "source": [
    "# start = 0 and stop = 8\n",
    "alist[ : 8]"
   ]
  },
  {
   "cell_type": "markdown",
   "metadata": {},
   "source": [
    "#### Slicing through positive index"
   ]
  },
  {
   "cell_type": "code",
   "execution_count": 62,
   "metadata": {},
   "outputs": [
    {
     "data": {
      "text/plain": [
       "[3, 'c', 4, 'd']"
      ]
     },
     "execution_count": 62,
     "metadata": {},
     "output_type": "execute_result"
    }
   ],
   "source": [
    "# start = 4 and stop = 8\n",
    "alist[4:8]"
   ]
  },
  {
   "cell_type": "code",
   "execution_count": 63,
   "metadata": {},
   "outputs": [
    {
     "data": {
      "text/plain": [
       "['a', 'b', 'c', 'd']"
      ]
     },
     "execution_count": 63,
     "metadata": {},
     "output_type": "execute_result"
    }
   ],
   "source": [
    "# start = 1 and stop = 9 and stride =2\n",
    "alist[1 : 9 : 2]"
   ]
  },
  {
   "cell_type": "code",
   "execution_count": 64,
   "metadata": {},
   "outputs": [
    {
     "data": {
      "text/plain": [
       "['a', 3, 'd']"
      ]
     },
     "execution_count": 64,
     "metadata": {},
     "output_type": "execute_result"
    }
   ],
   "source": [
    "# start = 1 and stop = 9 stride = 3\n",
    "alist[1 : 9 : 3]"
   ]
  },
  {
   "cell_type": "code",
   "execution_count": 67,
   "metadata": {},
   "outputs": [
    {
     "data": {
      "text/plain": [
       "[]"
      ]
     },
     "execution_count": 67,
     "metadata": {},
     "output_type": "execute_result"
    }
   ],
   "source": [
    "alist[8 : 1]"
   ]
  },
  {
   "cell_type": "code",
   "execution_count": 68,
   "metadata": {},
   "outputs": [
    {
     "data": {
      "text/plain": [
       "[1, 'a', 2, 'b', 3, 'c', 4, 'd', 5, 'e', 6, 'f']"
      ]
     },
     "execution_count": 68,
     "metadata": {},
     "output_type": "execute_result"
    }
   ],
   "source": [
    "# start = 0 and stop = len(alist) and stride = 1\n",
    "alist[ : : 1]"
   ]
  },
  {
   "cell_type": "code",
   "execution_count": 73,
   "metadata": {},
   "outputs": [
    {
     "data": {
      "text/plain": [
       "[2, 'b', 3, 'c', 4, 'd', 5]"
      ]
     },
     "execution_count": 73,
     "metadata": {},
     "output_type": "execute_result"
    }
   ],
   "source": [
    "# start = 2 and stop = 9 stride = 1\n",
    "alist[ 2 : 9 : 1]"
   ]
  },
  {
   "cell_type": "code",
   "execution_count": 74,
   "metadata": {},
   "outputs": [
    {
     "data": {
      "text/plain": [
       "list"
      ]
     },
     "execution_count": 74,
     "metadata": {},
     "output_type": "execute_result"
    }
   ],
   "source": [
    "# finding data type of the alist\n",
    "type(alist)"
   ]
  },
  {
   "cell_type": "markdown",
   "metadata": {},
   "source": [
    "#### Slicing through negative index"
   ]
  },
  {
   "cell_type": "code",
   "execution_count": 3,
   "metadata": {},
   "outputs": [
    {
     "data": {
      "text/plain": [
       "['e', 5, 'd', 4, 'c', 3, 'b']"
      ]
     },
     "execution_count": 3,
     "metadata": {},
     "output_type": "execute_result"
    }
   ],
   "source": [
    "alist[ 9 : 2 : -1]"
   ]
  },
  {
   "cell_type": "code",
   "execution_count": 4,
   "metadata": {},
   "outputs": [
    {
     "data": {
      "text/plain": [
       "[6, 'e', 5, 'd', 4, 'c', 3]"
      ]
     },
     "execution_count": 4,
     "metadata": {},
     "output_type": "execute_result"
    }
   ],
   "source": [
    "alist[ -2: -9 : -1]"
   ]
  },
  {
   "cell_type": "markdown",
   "metadata": {},
   "source": [
    "### Functions for adding elements to the list\n",
    "- append\n",
    "- extend\n",
    "- insert"
   ]
  },
  {
   "cell_type": "markdown",
   "metadata": {},
   "source": [
    "##### Append"
   ]
  },
  {
   "cell_type": "code",
   "execution_count": 17,
   "metadata": {},
   "outputs": [
    {
     "name": "stdout",
     "output_type": "stream",
     "text": [
      "Before append : \n",
      " ['apple', 'banana', 'bread', 'milk', 'yoghurt', 'peach', 'yoghurt', 'bread', 'sugar', 'apple'] \n",
      " Length of the list :  10\n",
      "After  append : \n",
      " ['apple', 'banana', 'bread', 'milk', 'yoghurt', 'peach', 'yoghurt', 'bread', 'sugar', 'apple', 'appended item'] \n",
      " Length of the list :  11\n"
     ]
    }
   ],
   "source": [
    "# len function is to find the length of the list\n",
    "print('Before append : \\n', basket_list, '\\n Length of the list : ', len(basket_list))\n",
    "#  to add item at the end and not as an individual element\n",
    "basket_list.append('appended item')\n",
    "print('After  append : \\n', basket_list, '\\n Length of the list : ', len(basket_list))"
   ]
  },
  {
   "cell_type": "code",
   "execution_count": 18,
   "metadata": {},
   "outputs": [
    {
     "name": "stdout",
     "output_type": "stream",
     "text": [
      "Before append : \n",
      " ['apple', 'banana', 'bread', 'milk', 'yoghurt', 'peach', 'yoghurt', 'bread', 'sugar', 'apple', 'appended item'] \n",
      " Length of the list :  11\n",
      "After  append : \n",
      " ['apple', 'banana', 'bread', 'milk', 'yoghurt', 'peach', 'yoghurt', 'bread', 'sugar', 'apple', 'appended item', ['555', 54]] \n",
      "Length of the list :  12\n"
     ]
    }
   ],
   "source": [
    "# appending of the list at the end\n",
    "print('Before append : \\n', basket_list, '\\n Length of the list : ', len(basket_list))\n",
    "appended_item2 = ['555', 54]\n",
    "basket_list.append(appended_item2)\n",
    "print('After  append : \\n', basket_list,'\\nLength of the list : ', len(basket_list))"
   ]
  },
  {
   "cell_type": "markdown",
   "metadata": {},
   "source": [
    "#### Extend"
   ]
  },
  {
   "cell_type": "code",
   "execution_count": 19,
   "metadata": {},
   "outputs": [
    {
     "name": "stdout",
     "output_type": "stream",
     "text": [
      "Before extend : \n",
      " ['apple', 'banana', 'bread', 'milk', 'yoghurt', 'peach', 'yoghurt', 'bread', 'sugar', 'apple', 'appended item', ['555', 54]] \n",
      " Length of the list :  12\n",
      "After  extend : \n",
      " ['apple', 'banana', 'bread', 'milk', 'yoghurt', 'peach', 'yoghurt', 'bread', 'sugar', 'apple', 'appended item', ['555', 54], '555', 54] \n",
      "Length of the list :  14\n"
     ]
    }
   ],
   "source": [
    "# extend adds as the individual elements \n",
    "# to changes are made to the actual list\n",
    "print('Before extend : \\n', basket_list, '\\n Length of the list : ', len(basket_list))\n",
    "appended_item2 = ['555', 54]\n",
    "basket_list.extend(appended_item2)\n",
    "print('After  extend : \\n', basket_list,'\\nLength of the list : ', len(basket_list))"
   ]
  },
  {
   "cell_type": "markdown",
   "metadata": {},
   "source": [
    "#### Insert\n",
    "- at particular index of choice\n",
    "- can add elements individually or as a list"
   ]
  },
  {
   "cell_type": "code",
   "execution_count": 21,
   "metadata": {},
   "outputs": [
    {
     "name": "stdout",
     "output_type": "stream",
     "text": [
      "Before insert : \n",
      " ['apple', 'banana', 'bread', 'milk', 'yoghurt', 'peach', 'yoghurt', 'bread', 'sugar', 'apple', 'appended item', ['555', 54], '555', 54] \n",
      " Length of the list :  14\n",
      "After  insert : \n",
      " ['apple', 'banana', ['555', 54], 'bread', 'milk', 'yoghurt', 'peach', 'yoghurt', 'bread', 'sugar', 'apple', 'appended item', ['555', 54], '555', 54] \n",
      "Length of the list :  15\n"
     ]
    }
   ],
   "source": [
    "print('Before insert : \\n', basket_list, '\\n Length of the list : ', len(basket_list))\n",
    "appended_item2 = ['555', 54]\n",
    "basket_list.insert(2,appended_item2)\n",
    "print('After  insert : \\n', basket_list,'\\nLength of the list : ', len(basket_list))"
   ]
  },
  {
   "cell_type": "markdown",
   "metadata": {},
   "source": [
    "### Functions for removing the elements from the list\n",
    "- remove \n",
    "- pop"
   ]
  },
  {
   "cell_type": "markdown",
   "metadata": {},
   "source": [
    "#### Remove \n",
    "- can remove single element at  a time"
   ]
  },
  {
   "cell_type": "code",
   "execution_count": 23,
   "metadata": {},
   "outputs": [
    {
     "name": "stdout",
     "output_type": "stream",
     "text": [
      "Before remove : \n",
      " ['apple', 'banana', ['555', 54], 'bread', 'milk', 'yoghurt', 'peach', 'yoghurt', 'bread', 'sugar', 'apple', 'appended item', ['555', 54], '555', 54] \n",
      " Length of the list :  15\n",
      "After  remove : \n",
      " ['apple', 'banana', 'bread', 'milk', 'yoghurt', 'peach', 'yoghurt', 'bread', 'sugar', 'apple', 'appended item', ['555', 54], '555', 54] \n",
      "Length of the list :  14\n"
     ]
    }
   ],
   "source": [
    "# it removes only one element even if there are two of its kind\n",
    "print('Before remove : \\n', basket_list, '\\n Length of the list : ', len(basket_list))\n",
    "appended_item2 = ['555', 54]\n",
    "basket_list.remove(appended_item2,)\n",
    "print('After  remove : \\n', basket_list,'\\nLength of the list : ', len(basket_list))"
   ]
  },
  {
   "cell_type": "code",
   "execution_count": 24,
   "metadata": {},
   "outputs": [
    {
     "name": "stdout",
     "output_type": "stream",
     "text": [
      "Before remove : \n",
      " ['apple', 'banana', 'bread', 'milk', 'yoghurt', 'peach', 'yoghurt', 'bread', 'sugar', 'apple', 'appended item', ['555', 54], '555', 54] \n",
      " Length of the list :  14\n",
      "After  remove : \n",
      " ['apple', 'banana', 'bread', 'milk', 'yoghurt', 'peach', 'yoghurt', 'bread', 'sugar', 'apple', 'appended item', '555', 54] \n",
      "Length of the list :  13\n"
     ]
    }
   ],
   "source": [
    "# another element is removed by using the function another time\n",
    "print('Before remove : \\n', basket_list, '\\n Length of the list : ', len(basket_list))\n",
    "appended_item2 = ['555', 54]\n",
    "basket_list.remove(appended_item2)\n",
    "print('After  remove : \\n', basket_list,'\\nLength of the list : ', len(basket_list))"
   ]
  },
  {
   "cell_type": "code",
   "execution_count": 25,
   "metadata": {},
   "outputs": [
    {
     "name": "stdout",
     "output_type": "stream",
     "text": [
      "Before remove : \n",
      " ['apple', 'banana', 'bread', 'milk', 'yoghurt', 'peach', 'yoghurt', 'bread', 'sugar', 'apple', 'appended item', '555', 54] \n",
      " Length of the list :  13\n"
     ]
    },
    {
     "ename": "TypeError",
     "evalue": "remove() takes exactly one argument (2 given)",
     "output_type": "error",
     "traceback": [
      "\u001b[0;31m---------------------------------------------------------------------------\u001b[0m",
      "\u001b[0;31mTypeError\u001b[0m                                 Traceback (most recent call last)",
      "\u001b[0;32m<ipython-input-25-0192aa8f5939>\u001b[0m in \u001b[0;36m<module>\u001b[0;34m\u001b[0m\n\u001b[1;32m      1\u001b[0m \u001b[0;31m# it can remove multiple elements\u001b[0m\u001b[0;34m\u001b[0m\u001b[0;34m\u001b[0m\u001b[0;34m\u001b[0m\u001b[0m\n\u001b[1;32m      2\u001b[0m \u001b[0mprint\u001b[0m\u001b[0;34m(\u001b[0m\u001b[0;34m'Before remove : \\n'\u001b[0m\u001b[0;34m,\u001b[0m \u001b[0mbasket_list\u001b[0m\u001b[0;34m,\u001b[0m \u001b[0;34m'\\n Length of the list : '\u001b[0m\u001b[0;34m,\u001b[0m \u001b[0mlen\u001b[0m\u001b[0;34m(\u001b[0m\u001b[0mbasket_list\u001b[0m\u001b[0;34m)\u001b[0m\u001b[0;34m)\u001b[0m\u001b[0;34m\u001b[0m\u001b[0;34m\u001b[0m\u001b[0m\n\u001b[0;32m----> 3\u001b[0;31m \u001b[0mbasket_list\u001b[0m\u001b[0;34m.\u001b[0m\u001b[0mremove\u001b[0m\u001b[0;34m(\u001b[0m\u001b[0;34m'apple'\u001b[0m\u001b[0;34m,\u001b[0m\u001b[0;34m'banana'\u001b[0m\u001b[0;34m)\u001b[0m\u001b[0;34m\u001b[0m\u001b[0;34m\u001b[0m\u001b[0m\n\u001b[0m\u001b[1;32m      4\u001b[0m \u001b[0mprint\u001b[0m\u001b[0;34m(\u001b[0m\u001b[0;34m'After  remove : \\n'\u001b[0m\u001b[0;34m,\u001b[0m \u001b[0mbasket_list\u001b[0m\u001b[0;34m,\u001b[0m\u001b[0;34m'\\nLength of the list : '\u001b[0m\u001b[0;34m,\u001b[0m \u001b[0mlen\u001b[0m\u001b[0;34m(\u001b[0m\u001b[0mbasket_list\u001b[0m\u001b[0;34m)\u001b[0m\u001b[0;34m)\u001b[0m\u001b[0;34m\u001b[0m\u001b[0;34m\u001b[0m\u001b[0m\n",
      "\u001b[0;31mTypeError\u001b[0m: remove() takes exactly one argument (2 given)"
     ]
    }
   ],
   "source": [
    "# it cannotlo remove multiple elements\n",
    "print('Before remove : \\n', basket_list, '\\n Length of the list : ', len(basket_list))\n",
    "basket_list.remove('apple','banana')\n",
    "print('After  remove : \\n', basket_list,'\\nLength of the list : ', len(basket_list))"
   ]
  },
  {
   "cell_type": "markdown",
   "metadata": {},
   "source": [
    "#### Pop\n",
    "- removes the element at the end or at the specific position\n",
    "- removes only single element"
   ]
  },
  {
   "cell_type": "code",
   "execution_count": 26,
   "metadata": {},
   "outputs": [
    {
     "name": "stdout",
     "output_type": "stream",
     "text": [
      "Before remove : \n",
      " ['apple', 'banana', 'bread', 'milk', 'yoghurt', 'peach', 'yoghurt', 'bread', 'sugar', 'apple', 'appended item', '555', 54] \n",
      " Length of the list :  13\n",
      "After  remove : \n",
      " ['apple', 'banana', 'bread', 'milk', 'yoghurt', 'peach', 'yoghurt', 'bread', 'sugar', 'apple', 'appended item', '555'] \n",
      "Length of the list :  12\n"
     ]
    }
   ],
   "source": [
    "print('Before remove : \\n', basket_list, '\\n Length of the list : ', len(basket_list))\n",
    "basket_list.pop(12)\n",
    "print('After  remove : \\n', basket_list,'\\nLength of the list : ', len(basket_list))"
   ]
  },
  {
   "cell_type": "code",
   "execution_count": 27,
   "metadata": {},
   "outputs": [
    {
     "name": "stdout",
     "output_type": "stream",
     "text": [
      "Before pop : \n",
      " ['apple', 'banana', 'bread', 'milk', 'yoghurt', 'peach', 'yoghurt', 'bread', 'sugar', 'apple', 'appended item', '555'] \n",
      " Length of the list :  12\n",
      "After  pop : \n",
      " ['apple', 'banana', 'bread', 'milk', 'yoghurt', 'peach', 'yoghurt', 'sugar', 'apple', 'appended item', '555'] \n",
      "Length of the list :  11\n"
     ]
    }
   ],
   "source": [
    "print('Before pop : \\n', basket_list, '\\n Length of the list : ', len(basket_list))\n",
    "basket_list.pop(7)\n",
    "print('After  pop : \\n', basket_list,'\\nLength of the list : ', len(basket_list))"
   ]
  },
  {
   "cell_type": "code",
   "execution_count": 28,
   "metadata": {},
   "outputs": [
    {
     "name": "stdout",
     "output_type": "stream",
     "text": [
      "Before pop : \n",
      " ['apple', 'banana', 'bread', 'milk', 'yoghurt', 'peach', 'yoghurt', 'sugar', 'apple', 'appended item', '555'] \n",
      " Length of the list :  11\n"
     ]
    },
    {
     "ename": "TypeError",
     "evalue": "pop() takes at most 1 argument (2 given)",
     "output_type": "error",
     "traceback": [
      "\u001b[0;31m---------------------------------------------------------------------------\u001b[0m",
      "\u001b[0;31mTypeError\u001b[0m                                 Traceback (most recent call last)",
      "\u001b[0;32m<ipython-input-28-3157d4217e38>\u001b[0m in \u001b[0;36m<module>\u001b[0;34m\u001b[0m\n\u001b[1;32m      1\u001b[0m \u001b[0mprint\u001b[0m\u001b[0;34m(\u001b[0m\u001b[0;34m'Before pop : \\n'\u001b[0m\u001b[0;34m,\u001b[0m \u001b[0mbasket_list\u001b[0m\u001b[0;34m,\u001b[0m \u001b[0;34m'\\n Length of the list : '\u001b[0m\u001b[0;34m,\u001b[0m \u001b[0mlen\u001b[0m\u001b[0;34m(\u001b[0m\u001b[0mbasket_list\u001b[0m\u001b[0;34m)\u001b[0m\u001b[0;34m)\u001b[0m\u001b[0;34m\u001b[0m\u001b[0;34m\u001b[0m\u001b[0m\n\u001b[0;32m----> 2\u001b[0;31m \u001b[0mbasket_list\u001b[0m\u001b[0;34m.\u001b[0m\u001b[0mpop\u001b[0m\u001b[0;34m(\u001b[0m\u001b[0;36m7\u001b[0m\u001b[0;34m,\u001b[0m \u001b[0;36m12\u001b[0m\u001b[0;34m)\u001b[0m\u001b[0;34m\u001b[0m\u001b[0;34m\u001b[0m\u001b[0m\n\u001b[0m\u001b[1;32m      3\u001b[0m \u001b[0mprint\u001b[0m\u001b[0;34m(\u001b[0m\u001b[0;34m'After  pop : \\n'\u001b[0m\u001b[0;34m,\u001b[0m \u001b[0mbasket_list\u001b[0m\u001b[0;34m,\u001b[0m\u001b[0;34m'\\nLength of the list : '\u001b[0m\u001b[0;34m,\u001b[0m \u001b[0mlen\u001b[0m\u001b[0;34m(\u001b[0m\u001b[0mbasket_list\u001b[0m\u001b[0;34m)\u001b[0m\u001b[0;34m)\u001b[0m\u001b[0;34m\u001b[0m\u001b[0;34m\u001b[0m\u001b[0m\n",
      "\u001b[0;31mTypeError\u001b[0m: pop() takes at most 1 argument (2 given)"
     ]
    }
   ],
   "source": [
    "print('Before pop : \\n', basket_list, '\\n Length of the list : ', len(basket_list))\n",
    "basket_list.pop(7, 12)\n",
    "print('After  pop : \\n', basket_list,'\\nLength of the list : ', len(basket_list))"
   ]
  },
  {
   "cell_type": "markdown",
   "metadata": {},
   "source": [
    "### Other functions of the list\n",
    "- count\n",
    "- index\n",
    "- sort : homogenous\n",
    "- reverse :\n",
    "- clear\n",
    "- copy"
   ]
  },
  {
   "cell_type": "markdown",
   "metadata": {},
   "source": [
    "#### Copy"
   ]
  },
  {
   "cell_type": "code",
   "execution_count": 7,
   "metadata": {},
   "outputs": [],
   "source": [
    "# This refers to the same memory location\n",
    "alist_copy = alist"
   ]
  },
  {
   "cell_type": "code",
   "execution_count": 8,
   "metadata": {},
   "outputs": [
    {
     "name": "stdout",
     "output_type": "stream",
     "text": [
      "Alist copy before modification [1, 'a', 2, 'b', 3, 'c', 4, 'd', 5, 'e', 6, 'f']\n",
      "Alist copy after modification [1, 'a', 2, 'b', 'change', 'c', 4, 'd', 5, 'e', 6, 'f']\n",
      "\n",
      "Actual alist [1, 'a', 2, 'b', 'change', 'c', 4, 'd', 5, 'e', 6, 'f']\n"
     ]
    }
   ],
   "source": [
    "print('Alist copy before modification', alist_copy)\n",
    "alist_copy[4] = 'change' \n",
    "print('Alist copy after modification', alist_copy)\n",
    "print('\\nActual alist', alist)"
   ]
  },
  {
   "cell_type": "code",
   "execution_count": 19,
   "metadata": {},
   "outputs": [
    {
     "name": "stdout",
     "output_type": "stream",
     "text": [
      "Alist_copy2 before modification [1, 'a', 2, 'b', 'change', 'c', 4, 'd', 5, 'e', 6, 'f']\n",
      "Alist_copy2 after modification [1, 'a', 2, 'b', 'new!change!', 'c', 4, 'd', 5, 'e', 6, 'f']\n",
      "\n",
      "Actual alist [1, 'a', 2, 'b', 'change', 'c', 4, 'd', 5, 'e', 6, 'f']\n"
     ]
    }
   ],
   "source": [
    "# A different memory location is created in case of copy function\n",
    "alist_copy2 = alist.copy()\n",
    "print('Alist_copy2 before modification', alist_copy2)\n",
    "alist_copy2[4] = 'new!change!' \n",
    "print('Alist_copy2 after modification', alist_copy2)\n",
    "print('\\nActual alist', alist)"
   ]
  },
  {
   "cell_type": "code",
   "execution_count": 21,
   "metadata": {},
   "outputs": [
    {
     "name": "stdout",
     "output_type": "stream",
     "text": [
      "ID for alist : 140190222316080\n",
      "ID for alist_copy : 140190222316080\n",
      "ID for alist_copy2 : 140190222084528\n"
     ]
    }
   ],
   "source": [
    "print('ID for alist :', id(alist))\n",
    "print('ID for alist_copy :', id(alist_copy))\n",
    "print('ID for alist_copy2 :', id(alist_copy2))"
   ]
  },
  {
   "cell_type": "markdown",
   "metadata": {},
   "source": [
    "### Multidimensional List"
   ]
  },
  {
   "cell_type": "code",
   "execution_count": 27,
   "metadata": {},
   "outputs": [],
   "source": [
    "multi_dimensional_list = [['simran',5.5],['bob',6],['sahi',5.3]]"
   ]
  },
  {
   "cell_type": "code",
   "execution_count": 28,
   "metadata": {},
   "outputs": [
    {
     "name": "stdout",
     "output_type": "stream",
     "text": [
      "Element number 1 :  ['simran', 5.5]\n",
      "Element number 2 :  ['bob', 6]\n",
      "Element number 3 :  ['sahi', 5.3]\n"
     ]
    }
   ],
   "source": [
    "print('Element number 1 : ', multi_dimensional_list[0])\n",
    "print('Element number 2 : ', multi_dimensional_list[1])\n",
    "print('Element number 3 : ', multi_dimensional_list[2])"
   ]
  },
  {
   "cell_type": "code",
   "execution_count": 29,
   "metadata": {},
   "outputs": [
    {
     "data": {
      "text/plain": [
       "['simran', 5.5]"
      ]
     },
     "execution_count": 29,
     "metadata": {},
     "output_type": "execute_result"
    }
   ],
   "source": [
    "element_1 = multi_dimensional_list[0]\n",
    "element_1"
   ]
  },
  {
   "cell_type": "code",
   "execution_count": 30,
   "metadata": {},
   "outputs": [
    {
     "name": "stdout",
     "output_type": "stream",
     "text": [
      "Element number 1 of element_1  simran\n",
      "Element number 2 of element_1  5.5\n"
     ]
    }
   ],
   "source": [
    "print('Element number 1 of element_1 ', element_1[0])\n",
    "print('Element number 2 of element_1 ', element_1[1])"
   ]
  },
  {
   "cell_type": "markdown",
   "metadata": {},
   "source": [
    "# Tuples\n",
    "- These are list like structures but immutable (cannot change number of elements in tuple)\n",
    "- No modification\n",
    "- Faster than lists\n",
    "- Memory efficienct\n",
    "- once the tuple is fixed with the specific data type at  a particular location it cannot be changed\n",
    "- accessible through indices"
   ]
  },
  {
   "cell_type": "markdown",
   "metadata": {},
   "source": [
    "#### Creating a empty tuple"
   ]
  },
  {
   "cell_type": "code",
   "execution_count": 31,
   "metadata": {},
   "outputs": [
    {
     "data": {
      "text/plain": [
       "tuple"
      ]
     },
     "execution_count": 31,
     "metadata": {},
     "output_type": "execute_result"
    }
   ],
   "source": [
    "# To create an empty tuple\n",
    "empty_tuple = ()\n",
    "type(empty_tuple)"
   ]
  },
  {
   "cell_type": "markdown",
   "metadata": {},
   "source": [
    "#### To create tuple with a single element"
   ]
  },
  {
   "cell_type": "code",
   "execution_count": 39,
   "metadata": {},
   "outputs": [
    {
     "data": {
      "text/plain": [
       "3"
      ]
     },
     "execution_count": 39,
     "metadata": {},
     "output_type": "execute_result"
    }
   ],
   "source": [
    "# This will create the integer object and not tuple\n",
    "single_element = (3)\n",
    "single_element"
   ]
  },
  {
   "cell_type": "code",
   "execution_count": 36,
   "metadata": {},
   "outputs": [
    {
     "data": {
      "text/plain": [
       "int"
      ]
     },
     "execution_count": 36,
     "metadata": {},
     "output_type": "execute_result"
    }
   ],
   "source": [
    "type(single_element)"
   ]
  },
  {
   "cell_type": "code",
   "execution_count": 37,
   "metadata": {},
   "outputs": [
    {
     "data": {
      "text/plain": [
       "(4,)"
      ]
     },
     "execution_count": 37,
     "metadata": {},
     "output_type": "execute_result"
    }
   ],
   "source": [
    "# This will create the tuple with single element\n",
    "tuple_with_single_element = (4 ,)\n",
    "tuple_with_single_element"
   ]
  },
  {
   "cell_type": "code",
   "execution_count": 38,
   "metadata": {},
   "outputs": [
    {
     "data": {
      "text/plain": [
       "tuple"
      ]
     },
     "execution_count": 38,
     "metadata": {},
     "output_type": "execute_result"
    }
   ],
   "source": [
    "type(tuple_with_single_element)"
   ]
  },
  {
   "cell_type": "code",
   "execution_count": 7,
   "metadata": {},
   "outputs": [
    {
     "name": "stdout",
     "output_type": "stream",
     "text": [
      "\n",
      "basket_tuple :  ('apple', 'banana', 'bread', 'milk', 'yoghurt', 'peach', 'yoghurt', 'bread', 'sugar', 'apple')\n",
      "\n",
      "mixed_tuple :  ('one', 'two', 'three', 4, 5, 6)\n",
      "\n",
      "name_tuple :  ('s', 'i', 'm', 'r', 'a', 'n')\n"
     ]
    }
   ],
   "source": [
    "# Creating some of the tuples\n",
    "basket_tuple =tuple (basket_list)\n",
    "mixed_tuple = ('one', 'two','three',4,5,6)\n",
    "name_tuple = tuple('simran')\n",
    "print('\\nbasket_tuple : ', basket_tuple)\n",
    "print('\\nmixed_tuple : ', mixed_tuple)\n",
    "print('\\nname_tuple : ', name_tuple)"
   ]
  },
  {
   "cell_type": "code",
   "execution_count": 45,
   "metadata": {},
   "outputs": [
    {
     "data": {
      "text/plain": [
       "(4,)"
      ]
     },
     "execution_count": 45,
     "metadata": {},
     "output_type": "execute_result"
    }
   ],
   "source": [
    "# if list with single element is passed then it is converted to tuple by adding a ','\n",
    "list_single_element =[4]\n",
    "tuple(list_single_element)"
   ]
  },
  {
   "cell_type": "code",
   "execution_count": 46,
   "metadata": {},
   "outputs": [],
   "source": [
    "# Multiple assignments\n",
    "a,b,c,d,e = (2,3,4,5,6)"
   ]
  },
  {
   "cell_type": "code",
   "execution_count": 47,
   "metadata": {},
   "outputs": [
    {
     "data": {
      "text/plain": [
       "2"
      ]
     },
     "execution_count": 47,
     "metadata": {},
     "output_type": "execute_result"
    }
   ],
   "source": [
    "a"
   ]
  },
  {
   "cell_type": "code",
   "execution_count": 48,
   "metadata": {},
   "outputs": [
    {
     "data": {
      "text/plain": [
       "int"
      ]
     },
     "execution_count": 48,
     "metadata": {},
     "output_type": "execute_result"
    }
   ],
   "source": [
    "type(a)"
   ]
  },
  {
   "cell_type": "markdown",
   "metadata": {},
   "source": [
    "#### How tuples are faster?"
   ]
  },
  {
   "cell_type": "code",
   "execution_count": 49,
   "metadata": {},
   "outputs": [],
   "source": [
    "import timeit"
   ]
  },
  {
   "cell_type": "markdown",
   "metadata": {},
   "source": [
    "###### Example : 1"
   ]
  },
  {
   "cell_type": "code",
   "execution_count": 52,
   "metadata": {},
   "outputs": [
    {
     "data": {
      "text/plain": [
       "3.917960573002347"
      ]
     },
     "execution_count": 52,
     "metadata": {},
     "output_type": "execute_result"
    }
   ],
   "source": [
    "timeit.timeit('[43, 123]*1000')"
   ]
  },
  {
   "cell_type": "code",
   "execution_count": 53,
   "metadata": {},
   "outputs": [
    {
     "data": {
      "text/plain": [
       "3.855364023009315"
      ]
     },
     "execution_count": 53,
     "metadata": {},
     "output_type": "execute_result"
    }
   ],
   "source": [
    "timeit.timeit('(43, 123)*1000')"
   ]
  },
  {
   "cell_type": "markdown",
   "metadata": {},
   "source": [
    "###### Example : 2"
   ]
  },
  {
   "cell_type": "code",
   "execution_count": 54,
   "metadata": {},
   "outputs": [
    {
     "data": {
      "text/plain": [
       "3.9044184840022353"
      ]
     },
     "execution_count": 54,
     "metadata": {},
     "output_type": "execute_result"
    }
   ],
   "source": [
    "timeit.timeit('(100,123)*1000')"
   ]
  },
  {
   "cell_type": "code",
   "execution_count": 55,
   "metadata": {},
   "outputs": [
    {
     "data": {
      "text/plain": [
       "4.229068675995222"
      ]
     },
     "execution_count": 55,
     "metadata": {},
     "output_type": "execute_result"
    }
   ],
   "source": [
    "timeit.timeit('[100, 123]*1000')"
   ]
  },
  {
   "cell_type": "markdown",
   "metadata": {},
   "source": [
    "#### How tuples are memory efficient"
   ]
  },
  {
   "cell_type": "markdown",
   "metadata": {},
   "source": [
    "###### Example : 1"
   ]
  },
  {
   "cell_type": "code",
   "execution_count": 5,
   "metadata": {},
   "outputs": [
    {
     "data": {
      "text/plain": [
       "16040"
      ]
     },
     "execution_count": 5,
     "metadata": {},
     "output_type": "execute_result"
    }
   ],
   "source": [
    "lis = [43, 123]*1000\n",
    "lis.__sizeof__() # to get the size in memory"
   ]
  },
  {
   "cell_type": "code",
   "execution_count": 4,
   "metadata": {},
   "outputs": [
    {
     "data": {
      "text/plain": [
       "16024"
      ]
     },
     "execution_count": 4,
     "metadata": {},
     "output_type": "execute_result"
    }
   ],
   "source": [
    "tup = (43, 123)*1000\n",
    "tup.__sizeof__()"
   ]
  },
  {
   "cell_type": "markdown",
   "metadata": {},
   "source": [
    "###### Example : 2"
   ]
  },
  {
   "cell_type": "code",
   "execution_count": 8,
   "metadata": {},
   "outputs": [
    {
     "data": {
      "text/plain": [
       "120"
      ]
     },
     "execution_count": 8,
     "metadata": {},
     "output_type": "execute_result"
    }
   ],
   "source": [
    "basket_list.__sizeof__()"
   ]
  },
  {
   "cell_type": "code",
   "execution_count": 9,
   "metadata": {},
   "outputs": [
    {
     "data": {
      "text/plain": [
       "104"
      ]
     },
     "execution_count": 9,
     "metadata": {},
     "output_type": "execute_result"
    }
   ],
   "source": [
    "basket_tuple.__sizeof__()"
   ]
  },
  {
   "cell_type": "markdown",
   "metadata": {},
   "source": [
    "#### Tuples are accessible"
   ]
  },
  {
   "cell_type": "code",
   "execution_count": 10,
   "metadata": {},
   "outputs": [
    {
     "data": {
      "text/plain": [
       "'yoghurt'"
      ]
     },
     "execution_count": 10,
     "metadata": {},
     "output_type": "execute_result"
    }
   ],
   "source": [
    "basket_tuple[4]"
   ]
  },
  {
   "cell_type": "code",
   "execution_count": 17,
   "metadata": {},
   "outputs": [
    {
     "data": {
      "text/plain": [
       "(23, 67, 'retreat', (34, 87), {34, 87, 98}, [54, 89, 90, 12])"
      ]
     },
     "execution_count": 17,
     "metadata": {},
     "output_type": "execute_result"
    }
   ],
   "source": [
    "tup_1 = ( 23, 67, 'retreat', (34,87), {34, 87, 98, 34}, [54,89,90,12])\n",
    "tup_1"
   ]
  },
  {
   "cell_type": "code",
   "execution_count": 18,
   "metadata": {},
   "outputs": [
    {
     "data": {
      "text/plain": [
       "6"
      ]
     },
     "execution_count": 18,
     "metadata": {},
     "output_type": "execute_result"
    }
   ],
   "source": [
    "len(tup_1)"
   ]
  },
  {
   "cell_type": "code",
   "execution_count": 19,
   "metadata": {},
   "outputs": [],
   "source": [
    "tup_1[4].add(45)"
   ]
  },
  {
   "cell_type": "code",
   "execution_count": 20,
   "metadata": {},
   "outputs": [
    {
     "data": {
      "text/plain": [
       "(23, 67, 'retreat', (34, 87), {34, 45, 87, 98}, [54, 89, 90, 12])"
      ]
     },
     "execution_count": 20,
     "metadata": {},
     "output_type": "execute_result"
    }
   ],
   "source": [
    "tup_1 # Note that number of elements do not change in the tuple"
   ]
  },
  {
   "cell_type": "code",
   "execution_count": 24,
   "metadata": {},
   "outputs": [
    {
     "data": {
      "text/plain": [
       "6"
      ]
     },
     "execution_count": 24,
     "metadata": {},
     "output_type": "execute_result"
    }
   ],
   "source": [
    "# To check the number of elements are same or not\n",
    "len(tup_1)"
   ]
  },
  {
   "cell_type": "markdown",
   "metadata": {},
   "source": [
    "#### The data type of the particular index cannot be changes once assigned in tuple"
   ]
  },
  {
   "cell_type": "code",
   "execution_count": 28,
   "metadata": {},
   "outputs": [
    {
     "ename": "TypeError",
     "evalue": "'tuple' object does not support item assignment",
     "output_type": "error",
     "traceback": [
      "\u001b[0;31m---------------------------------------------------------------------------\u001b[0m",
      "\u001b[0;31mTypeError\u001b[0m                                 Traceback (most recent call last)",
      "\u001b[0;32m<ipython-input-28-c61f6f93c5ef>\u001b[0m in \u001b[0;36m<module>\u001b[0;34m\u001b[0m\n\u001b[0;32m----> 1\u001b[0;31m \u001b[0mtup_1\u001b[0m\u001b[0;34m[\u001b[0m\u001b[0;36m1\u001b[0m\u001b[0;34m]\u001b[0m\u001b[0;34m=\u001b[0m \u001b[0;36m43\u001b[0m\u001b[0;34m\u001b[0m\u001b[0;34m\u001b[0m\u001b[0m\n\u001b[0m",
      "\u001b[0;31mTypeError\u001b[0m: 'tuple' object does not support item assignment"
     ]
    }
   ],
   "source": [
    "tup_1[1]= 43"
   ]
  },
  {
   "cell_type": "markdown",
   "metadata": {},
   "source": [
    "# Dictionaries\n",
    "- keys : unique immutable python objects : strings or numbers are used as keys\n",
    "- values : any aribitrary Python data objects : numbers strings list tuples sets dictionaries \n"
   ]
  },
  {
   "cell_type": "code",
   "execution_count": 8,
   "metadata": {},
   "outputs": [
    {
     "data": {
      "text/plain": [
       "dict"
      ]
     },
     "execution_count": 8,
     "metadata": {},
     "output_type": "execute_result"
    }
   ],
   "source": [
    "empty_dictionary = {}\n",
    "type(empty_dictionary)"
   ]
  },
  {
   "cell_type": "code",
   "execution_count": 21,
   "metadata": {},
   "outputs": [],
   "source": [
    "count_capital = { 'Australia' : 'Canberra', 'Russia' : 'Moscow', 'New Zealand' : 'Wellington','India' :'New Delhi', 'China': 'Beijing' }\n",
    "basket_dictionary = dict([('fruits',['apple','banana','peach','oranges']),('dairy',['yogurt','milk']),('vegetables','tomato')])\n",
    "mixed_dictionary = {1 : 'A' , 'char' : 43 }"
   ]
  },
  {
   "cell_type": "code",
   "execution_count": 9,
   "metadata": {},
   "outputs": [
    {
     "name": "stdout",
     "output_type": "stream",
     "text": [
      "empty_dictionary :  {}\n",
      "count_capital :  {'Australia': 'Canberra', 'Russia': 'Moscow', 'New Zealand': 'Wellington', 'India': 'New Delhi', 'China': 'Beijing'}\n",
      "basket_dictionary :  {'fruits': ['apple', 'banana', 'peach', 'oranges'], 'dairy': ['yogurt', 'milk'], 'vegetables': 'tomato'}\n",
      "Mixed dictionary :  {1: 'A', 'char': 43}\n"
     ]
    }
   ],
   "source": [
    "print('empty_dictionary : ', empty_dictionary)\n",
    "print('count_capital : ', count_capital)\n",
    "print('basket\n",
    "      _dictionary : ' , basket_dictionary)\n",
    "print('Mixed dictionary : ', mixed_dictionary)"
   ]
  },
  {
   "cell_type": "code",
   "execution_count": 3,
   "metadata": {},
   "outputs": [
    {
     "data": {
      "text/plain": [
       "{'Australia': 'Canberra',\n",
       " 'Russia': 'Moscow',\n",
       " 'New Zealand': 'Wellington',\n",
       " 'India': 'New Delhi',\n",
       " 'China': 'Beijing'}"
      ]
     },
     "execution_count": 3,
     "metadata": {},
     "output_type": "execute_result"
    }
   ],
   "source": [
    "count_capital"
   ]
  },
  {
   "cell_type": "code",
   "execution_count": 15,
   "metadata": {},
   "outputs": [
    {
     "data": {
      "text/plain": [
       "{'fruits': ['apple', 'banana', 'peach', 'oranges'],\n",
       " 'dairy': ['yogurt', 'milk'],\n",
       " 'vegetables': 'tomato'}"
      ]
     },
     "execution_count": 15,
     "metadata": {},
     "output_type": "execute_result"
    }
   ],
   "source": [
    "basket_dictionary"
   ]
  },
  {
   "cell_type": "code",
   "execution_count": 16,
   "metadata": {},
   "outputs": [
    {
     "data": {
      "text/plain": [
       "3"
      ]
     },
     "execution_count": 16,
     "metadata": {},
     "output_type": "execute_result"
    }
   ],
   "source": [
    "# to get the length of the dictionary\n",
    "len(basket_dictionary)"
   ]
  },
  {
   "cell_type": "code",
   "execution_count": 10,
   "metadata": {},
   "outputs": [
    {
     "data": {
      "text/plain": [
       "dict"
      ]
     },
     "execution_count": 10,
     "metadata": {},
     "output_type": "execute_result"
    }
   ],
   "source": [
    "# to get the data type\n",
    "type(basket_dictionary)"
   ]
  },
  {
   "cell_type": "markdown",
   "metadata": {},
   "source": [
    "#### Dictionary items are not directly accesssible but we can use list for that"
   ]
  },
  {
   "cell_type": "code",
   "execution_count": 24,
   "metadata": {},
   "outputs": [],
   "source": [
    "l = [('fruits',['apple','banana','peach','oranges']),\n",
    "                    ('dairy' ,['yogurt','milk']),\n",
    "                    ('vegetables' , 'tomato')]"
   ]
  },
  {
   "cell_type": "code",
   "execution_count": 25,
   "metadata": {},
   "outputs": [
    {
     "data": {
      "text/plain": [
       "[('fruits', ['apple', 'banana', 'peach', 'oranges']),\n",
       " ('dairy', ['yogurt', 'milk']),\n",
       " ('vegetables', 'tomato')]"
      ]
     },
     "execution_count": 25,
     "metadata": {},
     "output_type": "execute_result"
    }
   ],
   "source": [
    "l"
   ]
  },
  {
   "cell_type": "code",
   "execution_count": 27,
   "metadata": {},
   "outputs": [
    {
     "data": {
      "text/plain": [
       "3"
      ]
     },
     "execution_count": 27,
     "metadata": {},
     "output_type": "execute_result"
    }
   ],
   "source": [
    "len(l)"
   ]
  },
  {
   "cell_type": "code",
   "execution_count": 28,
   "metadata": {},
   "outputs": [
    {
     "data": {
      "text/plain": [
       "('fruits', ['apple', 'banana', 'peach', 'oranges'])"
      ]
     },
     "execution_count": 28,
     "metadata": {},
     "output_type": "execute_result"
    }
   ],
   "source": [
    "l[0] # to access the key and the value"
   ]
  },
  {
   "cell_type": "code",
   "execution_count": 29,
   "metadata": {},
   "outputs": [
    {
     "data": {
      "text/plain": [
       "'fruits'"
      ]
     },
     "execution_count": 29,
     "metadata": {},
     "output_type": "execute_result"
    }
   ],
   "source": [
    "l[0][0] # to access the key"
   ]
  },
  {
   "cell_type": "code",
   "execution_count": 32,
   "metadata": {},
   "outputs": [
    {
     "data": {
      "text/plain": [
       "['apple', 'banana', 'peach', 'oranges']"
      ]
     },
     "execution_count": 32,
     "metadata": {},
     "output_type": "execute_result"
    }
   ],
   "source": [
    "l[0][1] # values"
   ]
  },
  {
   "cell_type": "markdown",
   "metadata": {},
   "source": [
    "#### To view the dictionary items "
   ]
  },
  {
   "cell_type": "code",
   "execution_count": 5,
   "metadata": {},
   "outputs": [
    {
     "data": {
      "text/plain": [
       "dict_items([('fruits', ['apple', 'banana', 'peach', 'oranges']), ('dairy', ['yogurt', 'milk']), ('vegetables', 'tomato')])"
      ]
     },
     "execution_count": 5,
     "metadata": {},
     "output_type": "execute_result"
    }
   ],
   "source": [
    "# to view dictionary items\n",
    "basket_dictionary.items()"
   ]
  },
  {
   "cell_type": "markdown",
   "metadata": {},
   "source": [
    "#### Updating dictionary"
   ]
  },
  {
   "cell_type": "code",
   "execution_count": 8,
   "metadata": {},
   "outputs": [
    {
     "name": "stdout",
     "output_type": "stream",
     "text": [
      "Before update  {'Australia': 'Canberra', 'Russia': 'Moscow', 'New Zealand': 'Wellington', 'India': 'Delhi', 'China': 'Beijing'}\n",
      "After update  {'Australia': 'Canberra', 'Russia': 'Moscow', 'New Zealand': 'Wellington', 'India': 'Delhi', 'China': 'Beijing'}\n"
     ]
    }
   ],
   "source": [
    "# Update the existing value\n",
    "print('Before update ', count_capital)\n",
    "count_capital['India'] = 'Delhi'\n",
    "print('After update ', count_capital)"
   ]
  },
  {
   "cell_type": "code",
   "execution_count": 12,
   "metadata": {},
   "outputs": [
    {
     "name": "stdout",
     "output_type": "stream",
     "text": [
      "Before update  {'Australia': 'Canberra', 'Russia': 'Moscow', 'New Zealand': 'Wellington', 'India': 'Delhi', 'China': 'Beijing'}\n",
      "After update  {'Australia': 'Canberra', 'Russia': 'Moscow', 'New Zealand': 'Wellington', 'India': 'Delhi', 'China': 'Beijing', 'Nepal': 'Kathmandu'}\n"
     ]
    }
   ],
   "source": [
    "# Adding the new value to the dictionary\n",
    "print('Before update ', count_capital)\n",
    "count_capital['Nepal'] = 'Kathmandu'\n",
    "print('After update ', count_capital)"
   ]
  },
  {
   "cell_type": "code",
   "execution_count": 14,
   "metadata": {},
   "outputs": [
    {
     "name": "stdout",
     "output_type": "stream",
     "text": [
      "Before update  {'Australia': 'Canberra', 'Russia': 'Moscow', 'New Zealand': 'Wellington', 'India': 'Delhi', 'China': 'Beijing', 'Nepal': 'Kathmandu'}\n",
      "After update  {'Australia': 'Canberra', 'Russia': 'Moscow', 'New Zealand': 'Wellington', 'India': 'New Delhi', 'China': 'Beijing', 'Nepal': 'Kathmandu', 'Britain': 'London'}\n"
     ]
    }
   ],
   "source": [
    "# To update the multiple values and add new values\n",
    "print('Before update ', count_capital)\n",
    "count_capital.update({'India' : 'New Delhi', 'Britain' : 'London'})\n",
    "print('After update ', count_capital)"
   ]
  },
  {
   "cell_type": "markdown",
   "metadata": {},
   "source": [
    "#### To Remove values from the dictionary"
   ]
  },
  {
   "cell_type": "code",
   "execution_count": 15,
   "metadata": {},
   "outputs": [
    {
     "name": "stdout",
     "output_type": "stream",
     "text": [
      "Before pop  {'Australia': 'Canberra', 'Russia': 'Moscow', 'New Zealand': 'Wellington', 'India': 'New Delhi', 'China': 'Beijing', 'Nepal': 'Kathmandu', 'Britain': 'London'}\n",
      "Popped value :  Kathmandu\n",
      "After pop  {'Australia': 'Canberra', 'Russia': 'Moscow', 'New Zealand': 'Wellington', 'India': 'New Delhi', 'China': 'Beijing', 'Britain': 'London'}\n"
     ]
    }
   ],
   "source": [
    "print('Before pop ', count_capital)\n",
    "print('Popped value : ', count_capital.pop('Nepal'))\n",
    "print('After pop ', count_capital)"
   ]
  },
  {
   "cell_type": "code",
   "execution_count": 18,
   "metadata": {},
   "outputs": [
    {
     "name": "stdout",
     "output_type": "stream",
     "text": [
      "Before pop  {'Australia': 'Canberra', 'Russia': 'Moscow', 'New Zealand': 'Wellington', 'India': 'New Delhi', 'China': 'Beijing', 'Britain': 'London'}\n",
      "Popped value :  ('Britain', 'London')\n",
      "After pop  {'Australia': 'Canberra', 'Russia': 'Moscow', 'New Zealand': 'Wellington', 'India': 'New Delhi', 'China': 'Beijing'}\n"
     ]
    }
   ],
   "source": [
    "print('Before pop ', count_capital)\n",
    "print('Popped value : ', count_capital.popitem())\n",
    "print('After pop ', count_capital)"
   ]
  },
  {
   "cell_type": "markdown",
   "metadata": {},
   "source": [
    "##### get list off funcctions/ attributes \n",
    "basket_dict.\n",
    "- press tab"
   ]
  },
  {
   "cell_type": "code",
   "execution_count": 24,
   "metadata": {},
   "outputs": [
    {
     "name": "stdout",
     "output_type": "stream",
     "text": [
      "['__class__', '__contains__', '__delattr__', '__delitem__', '__dir__', '__doc__', '__eq__', '__format__', '__ge__', '__getattribute__', '__getitem__', '__gt__', '__hash__', '__init__', '__init_subclass__', '__iter__', '__le__', '__len__', '__lt__', '__ne__', '__new__', '__reduce__', '__reduce_ex__', '__repr__', '__setattr__', '__setitem__', '__sizeof__', '__str__', '__subclasshook__', 'clear', 'copy', 'fromkeys', 'get', 'items', 'keys', 'pop', 'popitem', 'setdefault', 'update', 'values']\n"
     ]
    }
   ],
   "source": [
    "# To get the list of all the functions for a particular object\n",
    "print(dir(basket_dictionary))"
   ]
  },
  {
   "cell_type": "markdown",
   "metadata": {},
   "source": [
    "# Conditional Statement"
   ]
  },
  {
   "cell_type": "markdown",
   "metadata": {},
   "source": [
    "if conditional_expression : statements to be exeuted if the conditional expression evvaluates to True block of statements else : # optional block of statements to be exxecuted if the conditional expression evaluates to False"
   ]
  },
  {
   "cell_type": "code",
   "execution_count": 3,
   "metadata": {},
   "outputs": [
    {
     "name": "stdout",
     "output_type": "stream",
     "text": [
      "even\n",
      "END\n"
     ]
    }
   ],
   "source": [
    "# to check even or odd\n",
    "number = 22\n",
    "if number % 2 == 0:\n",
    "    print('even')\n",
    "print('END')"
   ]
  },
  {
   "cell_type": "code",
   "execution_count": 5,
   "metadata": {},
   "outputs": [
    {
     "name": "stdout",
     "output_type": "stream",
     "text": [
      "END\n"
     ]
    }
   ],
   "source": [
    "number = 21\n",
    "if number % 2 == 0:\n",
    "    print('even')\n",
    "print('END')"
   ]
  },
  {
   "cell_type": "code",
   "execution_count": 6,
   "metadata": {},
   "outputs": [
    {
     "name": "stdout",
     "output_type": "stream",
     "text": [
      "even\n",
      "END\n"
     ]
    }
   ],
   "source": [
    "number = 44\n",
    "if number % 2 == 0:\n",
    "    print('even')\n",
    "else :\n",
    "    print('odd')\n",
    "print('END')"
   ]
  },
  {
   "cell_type": "code",
   "execution_count": 7,
   "metadata": {},
   "outputs": [
    {
     "name": "stdout",
     "output_type": "stream",
     "text": [
      "odd\n",
      "END\n"
     ]
    }
   ],
   "source": [
    "number = 21\n",
    "if number % 2 == 0:\n",
    "    print('even')\n",
    "else :\n",
    "    print('odd')\n",
    "print('END')"
   ]
  },
  {
   "cell_type": "code",
   "execution_count": 8,
   "metadata": {},
   "outputs": [],
   "source": [
    "# grade : \n",
    "# above 90 ---> A\n",
    "# 75 - 90  ---> B\n",
    "# 55 - 75  ---> C\n",
    "# 35 - 55  ---> D\n",
    "# below 35 ---> F"
   ]
  },
  {
   "cell_type": "code",
   "execution_count": 12,
   "metadata": {},
   "outputs": [
    {
     "name": "stdout",
     "output_type": "stream",
     "text": [
      "C\n"
     ]
    }
   ],
   "source": [
    "marks = 65\n",
    "if marks >= 90:\n",
    "    grade = 'A'\n",
    "elif marks >= 75:\n",
    "    grade = 'B'\n",
    "elif marks >= 55:\n",
    "    grade = 'C'\n",
    "elif marks >= 35:\n",
    "    grade = 'D'\n",
    "else :\n",
    "    grade = 'F'\n",
    "print(grade)"
   ]
  },
  {
   "cell_type": "code",
   "execution_count": 13,
   "metadata": {},
   "outputs": [],
   "source": [
    "countries = ['Malaysia', 'Bhutan', 'Indonesia', 'Nepal', 'Mauritius',  'Cook Islands','Fiji',  'Barbados',\n",
    "                'British Virgin Islands', 'Dominica','Grenada','Haiti','Jamaica','Montserrat','St. Kitts and Nevis',\n",
    "                'St. Vincent and the Grenadines','Trinidad and Tobago',\n",
    "                'El Salvador', 'Qatar']"
   ]
  },
  {
   "cell_type": "code",
   "execution_count": 14,
   "metadata": {},
   "outputs": [],
   "source": [
    "country = 'Qatar'"
   ]
  },
  {
   "cell_type": "code",
   "execution_count": 15,
   "metadata": {},
   "outputs": [
    {
     "data": {
      "text/plain": [
       "True"
      ]
     },
     "execution_count": 15,
     "metadata": {},
     "output_type": "execute_result"
    }
   ],
   "source": [
    "country in countries  # checks for a value in  a list"
   ]
  },
  {
   "cell_type": "code",
   "execution_count": null,
   "metadata": {},
   "outputs": [],
   "source": [
    "# Loops \n",
    "# user defined functions \n",
    "# numpy arrays"
   ]
  }
 ],
 "metadata": {
  "kernelspec": {
   "display_name": "Python 3",
   "language": "python",
   "name": "python3"
  },
  "language_info": {
   "codemirror_mode": {
    "name": "ipython",
    "version": 3
   },
   "file_extension": ".py",
   "mimetype": "text/x-python",
   "name": "python",
   "nbconvert_exporter": "python",
   "pygments_lexer": "ipython3",
   "version": "3.7.6"
  }
 },
 "nbformat": 4,
 "nbformat_minor": 4
}
